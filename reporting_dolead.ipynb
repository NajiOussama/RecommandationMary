{
 "cells": [
  {
   "cell_type": "code",
   "execution_count": 1,
   "metadata": {},
   "outputs": [],
   "source": [
    "import pandas as pd"
   ]
  },
  {
   "cell_type": "code",
   "execution_count": 17,
   "metadata": {},
   "outputs": [],
   "source": [
    "df = pd.read_csv('/Users/oussamanaji/Downloads/db_full_extract_oussama.csv')\n",
    "filter = (df['agent']=='dolead_att') & (df['variables'].apply(lambda d: 'amd' not in d)) \n",
    "df = df[filter].reset_index()\n"
   ]
  },
  {
   "cell_type": "code",
   "execution_count": 19,
   "metadata": {},
   "outputs": [
    {
     "data": {
      "text/plain": [
       "\"{'NOTE': 9, 'transfer': 'done', 'RedirectedTo': '+18557942430', 'check_zip_code': 'eligible'}\""
      ]
     },
     "execution_count": 19,
     "metadata": {},
     "output_type": "execute_result"
    }
   ],
   "source": [
    "df['variables'][0]"
   ]
  },
  {
   "cell_type": "code",
   "execution_count": 20,
   "metadata": {},
   "outputs": [
    {
     "data": {
      "text/plain": [
       "Index(['index', 'discussionid', 'discussiondate', 'starttimestamp',\n",
       "       'endtimestamp', 'canal', 'recordingurl', 'agent', 'inbound', 'callfrom',\n",
       "       'callto', 'callforwardedfrom', 'endredirection', 'redirectedto',\n",
       "       'stirstatus', 'qualrepeatedinformation', 'qualtranscription',\n",
       "       'qualcoherence', 'qualsenseless', 'qualunhappiness',\n",
       "       'qualrepeatedquestion', 'qualmisunderstood', 'summary', 'variables',\n",
       "       'metrics', 'timings', 'costs', 'serverip', 'ongoing', 'followup'],\n",
       "      dtype='object')"
      ]
     },
     "execution_count": 20,
     "metadata": {},
     "output_type": "execute_result"
    }
   ],
   "source": [
    "df.columns"
   ]
  },
  {
   "cell_type": "code",
   "execution_count": null,
   "metadata": {},
   "outputs": [],
   "source": []
  }
 ],
 "metadata": {
  "kernelspec": {
   "display_name": "Python 3",
   "language": "python",
   "name": "python3"
  },
  "language_info": {
   "codemirror_mode": {
    "name": "ipython",
    "version": 3
   },
   "file_extension": ".py",
   "mimetype": "text/x-python",
   "name": "python",
   "nbconvert_exporter": "python",
   "pygments_lexer": "ipython3",
   "version": "3.12.6"
  }
 },
 "nbformat": 4,
 "nbformat_minor": 2
}
